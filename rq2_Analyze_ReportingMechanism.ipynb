{
 "cells": [
  {
   "cell_type": "code",
   "execution_count": 1,
   "id": "17816528",
   "metadata": {},
   "outputs": [],
   "source": [
    "import pandas as pd\n",
    "import json\n",
    "from statistics import median"
   ]
  },
  {
   "cell_type": "code",
   "execution_count": 4,
   "id": "7abdb794",
   "metadata": {},
   "outputs": [
    {
     "name": "stdout",
     "output_type": "stream",
     "text": [
      "\n",
      "Number of projects for each SecurityPolicy_reporting_mechanism:\n",
      "- external: 66 projects (21.78%)\n",
      "- email: 124 projects (40.92%)\n",
      "- email_advisory: 25 projects (8.25%)\n",
      "- advisory: 39 projects (12.87%)\n",
      "- email_issue: 5 projects (1.65%)\n",
      "- email_external: 29 projects (9.57%)\n",
      "- not_mentioned: 9 projects (2.97%)\n",
      "- advisory_external: 2 projects (0.66%)\n",
      "- issue: 3 projects (0.99%)\n",
      "- email_advisory_external: 1 projects (0.33%)\n",
      "\n",
      "Total projects: 303\n"
     ]
    }
   ],
   "source": [
    "# Count the number of projects for each Reporting mechanism\n",
    "with open('dataset/AllPackages.json', 'r') as file:\n",
    "    data = json.load(file)\n",
    "\n",
    "reporting_mechanism_counts = {}\n",
    "total_valid_projects = 0\n",
    "\n",
    "for entry in data:\n",
    "    mechanism = entry.get(\"SecurityPolicy_reporting_mechanism\")\n",
    "    if not mechanism:\n",
    "        continue\n",
    "    reporting_mechanism_counts[mechanism] = reporting_mechanism_counts.get(mechanism, 0) + 1\n",
    "    total_valid_projects += 1\n",
    "\n",
    "\n",
    "print(\"\\nNumber of projects for each SecurityPolicy_reporting_mechanism:\")\n",
    "for mechanism, count in reporting_mechanism_counts.items():\n",
    "    percentage = (count / total_valid_projects) * 100\n",
    "    print(f\"- {mechanism}: {count} projects ({percentage:.2f}%)\")\n",
    "print(f\"\\nTotal projects: {total_valid_projects}\")\n"
   ]
  }
 ],
 "metadata": {
  "kernelspec": {
   "display_name": "base",
   "language": "python",
   "name": "python3"
  },
  "language_info": {
   "codemirror_mode": {
    "name": "ipython",
    "version": 3
   },
   "file_extension": ".py",
   "mimetype": "text/x-python",
   "name": "python",
   "nbconvert_exporter": "python",
   "pygments_lexer": "ipython3",
   "version": "3.11.5"
  }
 },
 "nbformat": 4,
 "nbformat_minor": 5
}
