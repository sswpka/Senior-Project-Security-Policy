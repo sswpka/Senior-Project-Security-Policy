{
 "cells": [
  {
   "cell_type": "code",
   "execution_count": null,
   "id": "8135415a",
   "metadata": {},
   "outputs": [],
   "source": [
    "import subprocess\n",
    "import json\n",
    "import tqdm"
   ]
  },
  {
   "cell_type": "code",
   "execution_count": null,
   "id": "8cfcefad",
   "metadata": {},
   "outputs": [],
   "source": [
    "def ssf_scan(reponame):\n",
    "\n",
    "    command = [\"scorecard\", f\"--repo=https://github.com/{reponame}\", \"--format=json\", \"--verbosity=info\", \"--show-details\"]\n",
    "\n",
    "    try:\n",
    "        result = subprocess.run(command, capture_output=True, text=True, check=True)\n",
    "\n",
    "        if result.stderr:\n",
    "            print(\"Error:\", result.stderr)\n",
    "            \n",
    "        return json.loads(result.stdout)\n",
    "\n",
    "    except subprocess.CalledProcessError as e:\n",
    "        print(\"Command failed with exit code\", e.returncode)\n",
    "        print(\"Error message:\", e.stderr)"
   ]
  },
  {
   "cell_type": "code",
   "execution_count": null,
   "id": "60ee884a",
   "metadata": {},
   "outputs": [],
   "source": [
    "input_file = \"List_AllPackages.json\"\n",
    "output_file = \"List_AllPackages_SSF.json\"\n",
    "\n",
    "with open(input_file, mode='r', encoding='utf-8') as infile:\n",
    "    data = json.load(infile)\n",
    "\n",
    "for item in tqdm.tqdm(data, desc=\"Processing items\"):\n",
    "    \n",
    "    package_name = item.get('package_name')\n",
    "    item['SSF'] = ssf_scan(package_name)\n",
    "    \n",
    "with open(output_file, mode='w', encoding='utf-8') as outfile:\n",
    "    json.dump(data, outfile, ensure_ascii=False, indent=4)"
   ]
  }
 ],
 "metadata": {
  "language_info": {
   "name": "python"
  }
 },
 "nbformat": 4,
 "nbformat_minor": 5
}
